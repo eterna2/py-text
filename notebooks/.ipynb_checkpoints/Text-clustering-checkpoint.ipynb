{
 "cells": [
  {
   "cell_type": "code",
   "execution_count": 18,
   "metadata": {
    "collapsed": false
   },
   "outputs": [],
   "source": [
    "import re\n",
    "import collections\n",
    "import numpy as np\n",
    "import pandas as pd"
   ]
  },
  {
   "cell_type": "markdown",
   "metadata": {},
   "source": [
    "### 1. Create corpus from wikipedia"
   ]
  },
  {
   "cell_type": "code",
   "execution_count": 219,
   "metadata": {
    "collapsed": false
   },
   "outputs": [
    {
     "data": {
      "text/html": [
       "<div>\n",
       "<table border=\"1\" class=\"dataframe\">\n",
       "  <thead>\n",
       "    <tr style=\"text-align: right;\">\n",
       "      <th></th>\n",
       "      <th>topic</th>\n",
       "      <th>text</th>\n",
       "    </tr>\n",
       "  </thead>\n",
       "  <tbody>\n",
       "    <tr>\n",
       "      <th>0</th>\n",
       "      <td>malaysia</td>\n",
       "      <td>Malaysia (/məˈleɪʒə/ mə-LAY-zhə or /məˈleɪsiə/...</td>\n",
       "    </tr>\n",
       "    <tr>\n",
       "      <th>1</th>\n",
       "      <td>malaysia</td>\n",
       "      <td>Malaysia has its origins in the Malay kingdoms...</td>\n",
       "    </tr>\n",
       "    <tr>\n",
       "      <th>2</th>\n",
       "      <td>malaysia</td>\n",
       "      <td>The country is multi-ethnic and multi-cultural...</td>\n",
       "    </tr>\n",
       "    <tr>\n",
       "      <th>3</th>\n",
       "      <td>malaysia</td>\n",
       "      <td>Since its independence, Malaysia has had one o...</td>\n",
       "    </tr>\n",
       "    <tr>\n",
       "      <th>4</th>\n",
       "      <td>malaysia</td>\n",
       "      <td>The name \"Malaysia\" is a combination of the wo...</td>\n",
       "    </tr>\n",
       "  </tbody>\n",
       "</table>\n",
       "</div>"
      ],
      "text/plain": [
       "      topic                                               text\n",
       "0  malaysia  Malaysia (/məˈleɪʒə/ mə-LAY-zhə or /məˈleɪsiə/...\n",
       "1  malaysia  Malaysia has its origins in the Malay kingdoms...\n",
       "2  malaysia  The country is multi-ethnic and multi-cultural...\n",
       "3  malaysia  Since its independence, Malaysia has had one o...\n",
       "4  malaysia  The name \"Malaysia\" is a combination of the wo..."
      ]
     },
     "execution_count": 219,
     "metadata": {},
     "output_type": "execute_result"
    }
   ],
   "source": [
    "import wikipedia\n",
    "import pandas as pd\n",
    "\n",
    "def generate_text(topic, min_char=150):\n",
    "    sentences =  wikipedia.page(topic).content.split('\\n')\n",
    "    sentences = [sentence for sentence in sentences if len(sentence) >= min_char] # keep sentences with more than 150 characters\n",
    "    return zip([topic for i in range(len(sentences))], sentences)\n",
    "\n",
    "topics = ['malaysia', 'singapore', 'china']\n",
    "tmp = [generate_text(topic) for topic in topics]\n",
    "tmp = [y for x in tmp for y in x] # flatten\n",
    "text = [content for topic, content in tmp]\n",
    "y = [topic for topic, content in tmp]\n",
    "\n",
    "df = pd.DataFrame(list(zip(y, text)), columns=['topic', 'text'])\n",
    "df.head()"
   ]
  },
  {
   "cell_type": "markdown",
   "metadata": {},
   "source": [
    "### 2A. Pre-processing - Basic"
   ]
  },
  {
   "cell_type": "code",
   "execution_count": 228,
   "metadata": {
    "collapsed": true
   },
   "outputs": [],
   "source": [
    "import re\n",
    "\n",
    "# Convert text to lower-case and strip punctuation/symbols from words\n",
    "def tokenize(text):\n",
    "    if pd.notnull(text):\n",
    "        norm_text = text.lower().strip()\n",
    "\n",
    "        # Pad punctuation with spaces on both sides\n",
    "        for char in ['.', '\"', ',', '(', ')', '!', '?', ';', ':']:\n",
    "            norm_text = norm_text.replace(char, ' ' + char + ' ')\n",
    "\n",
    "        # Replace breaks with spaces\n",
    "        norm_text = re.sub(r'\\n', ' <LINEBREAK> ', norm_text)\n",
    "        norm_text = re.sub(r'\\b[0-9,\\.]{1,}\\b', ' <NUMBER> ', norm_text)\n",
    "        norm_text = re.sub(r' {2,}', ' ', norm_text)\n",
    "\n",
    "        return norm_text.strip().split(' ')"
   ]
  },
  {
   "cell_type": "code",
   "execution_count": 229,
   "metadata": {
    "collapsed": false
   },
   "outputs": [
    {
     "name": "stdout",
     "output_type": "stream",
     "text": [
      "shape (279, 5)\n"
     ]
    },
    {
     "data": {
      "text/html": [
       "<div>\n",
       "<table border=\"1\" class=\"dataframe\">\n",
       "  <thead>\n",
       "    <tr style=\"text-align: right;\">\n",
       "      <th></th>\n",
       "      <th>topic</th>\n",
       "      <th>text</th>\n",
       "      <th>tokens</th>\n",
       "      <th>cluster</th>\n",
       "      <th>count</th>\n",
       "    </tr>\n",
       "  </thead>\n",
       "  <tbody>\n",
       "    <tr>\n",
       "      <th>0</th>\n",
       "      <td>malaysia</td>\n",
       "      <td>Malaysia (/məˈleɪʒə/ mə-LAY-zhə or /məˈleɪsiə/...</td>\n",
       "      <td>[malaysia, (, /məˈleɪʒə/, mə-lay-zhə, or, /məˈ...</td>\n",
       "      <td>2</td>\n",
       "      <td>1</td>\n",
       "    </tr>\n",
       "    <tr>\n",
       "      <th>1</th>\n",
       "      <td>malaysia</td>\n",
       "      <td>Malaysia has its origins in the Malay kingdoms...</td>\n",
       "      <td>[malaysia, has, its, origins, in, the, malay, ...</td>\n",
       "      <td>6</td>\n",
       "      <td>1</td>\n",
       "    </tr>\n",
       "    <tr>\n",
       "      <th>2</th>\n",
       "      <td>malaysia</td>\n",
       "      <td>The country is multi-ethnic and multi-cultural...</td>\n",
       "      <td>[the, country, is, multi-ethnic, and, multi-cu...</td>\n",
       "      <td>4</td>\n",
       "      <td>1</td>\n",
       "    </tr>\n",
       "    <tr>\n",
       "      <th>3</th>\n",
       "      <td>malaysia</td>\n",
       "      <td>Since its independence, Malaysia has had one o...</td>\n",
       "      <td>[since, its, independence, ,, malaysia, has, h...</td>\n",
       "      <td>2</td>\n",
       "      <td>1</td>\n",
       "    </tr>\n",
       "    <tr>\n",
       "      <th>4</th>\n",
       "      <td>malaysia</td>\n",
       "      <td>The name \"Malaysia\" is a combination of the wo...</td>\n",
       "      <td>[the, name, \", malaysia, \", is, a, combination...</td>\n",
       "      <td>6</td>\n",
       "      <td>1</td>\n",
       "    </tr>\n",
       "  </tbody>\n",
       "</table>\n",
       "</div>"
      ],
      "text/plain": [
       "      topic                                               text  \\\n",
       "0  malaysia  Malaysia (/məˈleɪʒə/ mə-LAY-zhə or /məˈleɪsiə/...   \n",
       "1  malaysia  Malaysia has its origins in the Malay kingdoms...   \n",
       "2  malaysia  The country is multi-ethnic and multi-cultural...   \n",
       "3  malaysia  Since its independence, Malaysia has had one o...   \n",
       "4  malaysia  The name \"Malaysia\" is a combination of the wo...   \n",
       "\n",
       "                                              tokens  cluster  count  \n",
       "0  [malaysia, (, /məˈleɪʒə/, mə-lay-zhə, or, /məˈ...        2      1  \n",
       "1  [malaysia, has, its, origins, in, the, malay, ...        6      1  \n",
       "2  [the, country, is, multi-ethnic, and, multi-cu...        4      1  \n",
       "3  [since, its, independence, ,, malaysia, has, h...        2      1  \n",
       "4  [the, name, \", malaysia, \", is, a, combination...        6      1  "
      ]
     },
     "execution_count": 229,
     "metadata": {},
     "output_type": "execute_result"
    }
   ],
   "source": [
    "df['tokens'] = df.text.apply(tokenize)\n",
    "print('shape',df.shape)\n",
    "df.head()"
   ]
  },
  {
   "cell_type": "markdown",
   "metadata": {},
   "source": [
    "### 2B. Pre-processing - Spacy"
   ]
  },
  {
   "cell_type": "code",
   "execution_count": 221,
   "metadata": {
    "collapsed": false
   },
   "outputs": [],
   "source": [
    "import spacy\n",
    "\n",
    "# load english model\n",
    "nlp = spacy.load('en') "
   ]
  },
  {
   "cell_type": "code",
   "execution_count": 222,
   "metadata": {
    "collapsed": false
   },
   "outputs": [
    {
     "name": "stdout",
     "output_type": "stream",
     "text": [
      "shape (279, 3)\n"
     ]
    },
    {
     "data": {
      "text/html": [
       "<div>\n",
       "<table border=\"1\" class=\"dataframe\">\n",
       "  <thead>\n",
       "    <tr style=\"text-align: right;\">\n",
       "      <th></th>\n",
       "      <th>topic</th>\n",
       "      <th>text</th>\n",
       "      <th>tokens</th>\n",
       "    </tr>\n",
       "  </thead>\n",
       "  <tbody>\n",
       "    <tr>\n",
       "      <th>0</th>\n",
       "      <td>malaysia</td>\n",
       "      <td>Malaysia (/məˈleɪʒə/ mə-LAY-zhə or /məˈleɪsiə/...</td>\n",
       "      <td>[malaysia, mə-lay, zhə, mə-lay, see-ə, malaysi...</td>\n",
       "    </tr>\n",
       "    <tr>\n",
       "      <th>1</th>\n",
       "      <td>malaysia</td>\n",
       "      <td>Malaysia has its origins in the Malay kingdoms...</td>\n",
       "      <td>[malaysia, have, its, origin, malay, kingdom, ...</td>\n",
       "    </tr>\n",
       "    <tr>\n",
       "      <th>2</th>\n",
       "      <td>malaysia</td>\n",
       "      <td>The country is multi-ethnic and multi-cultural...</td>\n",
       "      <td>[country, be, multi, ethnic, multi, cultural, ...</td>\n",
       "    </tr>\n",
       "    <tr>\n",
       "      <th>3</th>\n",
       "      <td>malaysia</td>\n",
       "      <td>Since its independence, Malaysia has had one o...</td>\n",
       "      <td>[its, independence, malaysia, have, have, good...</td>\n",
       "    </tr>\n",
       "    <tr>\n",
       "      <th>4</th>\n",
       "      <td>malaysia</td>\n",
       "      <td>The name \"Malaysia\" is a combination of the wo...</td>\n",
       "      <td>[name, malaysia, be, combination, word, malay,...</td>\n",
       "    </tr>\n",
       "  </tbody>\n",
       "</table>\n",
       "</div>"
      ],
      "text/plain": [
       "      topic                                               text  \\\n",
       "0  malaysia  Malaysia (/məˈleɪʒə/ mə-LAY-zhə or /məˈleɪsiə/...   \n",
       "1  malaysia  Malaysia has its origins in the Malay kingdoms...   \n",
       "2  malaysia  The country is multi-ethnic and multi-cultural...   \n",
       "3  malaysia  Since its independence, Malaysia has had one o...   \n",
       "4  malaysia  The name \"Malaysia\" is a combination of the wo...   \n",
       "\n",
       "                                              tokens  \n",
       "0  [malaysia, mə-lay, zhə, mə-lay, see-ə, malaysi...  \n",
       "1  [malaysia, have, its, origin, malay, kingdom, ...  \n",
       "2  [country, be, multi, ethnic, multi, cultural, ...  \n",
       "3  [its, independence, malaysia, have, have, good...  \n",
       "4  [name, malaysia, be, combination, word, malay,...  "
      ]
     },
     "execution_count": 222,
     "metadata": {},
     "output_type": "execute_result"
    }
   ],
   "source": [
    "def extract_verb(doc):\n",
    "    return [token.lemma_ for token in doc if ( \\\n",
    "        token.pos == spacy.parts_of_speech.ADJ or \\\n",
    "        token.pos == spacy.parts_of_speech.VERB or \\\n",
    "        token.pos == spacy.parts_of_speech.PRON or \\\n",
    "        token.pos == spacy.parts_of_speech.PROPN or \\\n",
    "        token.pos == spacy.parts_of_speech.NOUN)]\n",
    "\n",
    "def extract_tokens(doc):\n",
    "    return extract_verb(doc) + [s.lemma_ for s in doc.noun_chunks]\n",
    "\n",
    "\n",
    "tokenized = [extract_verb(doc) for doc in nlp.pipe(df.text, batch_size=10000, n_threads=4)]   \n",
    "df['tokens'] = tokenized\n",
    "print('shape',df.shape)\n",
    "df.head()"
   ]
  },
  {
   "cell_type": "markdown",
   "metadata": {},
   "source": [
    "### 3A. Doc2Vec"
   ]
  },
  {
   "cell_type": "code",
   "execution_count": 93,
   "metadata": {
    "collapsed": false
   },
   "outputs": [],
   "source": [
    "from gensim.models import doc2vec\n",
    "\n",
    "tagged_docs = [doc2vec.TaggedDocument(tokens, [i]) for i, tokens in enumerate(df.tokens)]\n",
    "model = doc2vec.Doc2Vec(tagged_docs, size=100, window=8, min_count=5, workers=4, iter=20, seed=0)\n",
    "doc_vectors = model.docvecs\n",
    "\n",
    "print(doc_vectors.shape)"
   ]
  },
  {
   "cell_type": "markdown",
   "metadata": {},
   "source": [
    "### 3B. TFIDF"
   ]
  },
  {
   "cell_type": "code",
   "execution_count": 230,
   "metadata": {
    "collapsed": false
   },
   "outputs": [
    {
     "name": "stdout",
     "output_type": "stream",
     "text": [
      "(279, 1252)\n"
     ]
    }
   ],
   "source": [
    "from sklearn.feature_extraction.text import TfidfVectorizer\n",
    "\n",
    "vec = TfidfVectorizer(max_features=10000, stop_words='english', strip_accents='unicode', max_df=0.5, min_df=0.01)\n",
    "doc_vectors = vec.fit_transform(df.tokens.apply(lambda x: ' '.join(x)))\n",
    "vocab = vec.get_feature_names()\n",
    "\n",
    "print(doc_vectors.shape)"
   ]
  },
  {
   "cell_type": "markdown",
   "metadata": {},
   "source": [
    "### 4. Clustering"
   ]
  },
  {
   "cell_type": "code",
   "execution_count": 231,
   "metadata": {
    "collapsed": true
   },
   "outputs": [],
   "source": [
    "from sklearn.feature_extraction.text import TfidfVectorizer\n",
    "from sklearn.cluster import MiniBatchKMeans"
   ]
  },
  {
   "cell_type": "code",
   "execution_count": 232,
   "metadata": {
    "collapsed": false
   },
   "outputs": [
    {
     "data": {
      "text/html": [
       "<div>\n",
       "<table border=\"1\" class=\"dataframe\">\n",
       "  <thead>\n",
       "    <tr style=\"text-align: right;\">\n",
       "      <th></th>\n",
       "      <th>topic</th>\n",
       "      <th>text</th>\n",
       "      <th>tokens</th>\n",
       "      <th>cluster</th>\n",
       "      <th>count</th>\n",
       "      <th>topic0</th>\n",
       "      <th>topic1</th>\n",
       "      <th>topic2</th>\n",
       "      <th>topic3</th>\n",
       "      <th>topic4</th>\n",
       "      <th>topic5</th>\n",
       "      <th>topic6</th>\n",
       "      <th>topic7</th>\n",
       "    </tr>\n",
       "  </thead>\n",
       "  <tbody>\n",
       "    <tr>\n",
       "      <th>0</th>\n",
       "      <td>malaysia</td>\n",
       "      <td>Malaysia (/məˈleɪʒə/ mə-LAY-zhə or /məˈleɪsiə/...</td>\n",
       "      <td>[malaysia, (, /məˈleɪʒə/, mə-lay-zhə, or, /məˈ...</td>\n",
       "      <td>7</td>\n",
       "      <td>1</td>\n",
       "      <td>1.160762</td>\n",
       "      <td>1.020485</td>\n",
       "      <td>1.006820</td>\n",
       "      <td>1.074643</td>\n",
       "      <td>1.013091</td>\n",
       "      <td>1.005256</td>\n",
       "      <td>1.012445</td>\n",
       "      <td>0.854317</td>\n",
       "    </tr>\n",
       "    <tr>\n",
       "      <th>1</th>\n",
       "      <td>malaysia</td>\n",
       "      <td>Malaysia has its origins in the Malay kingdoms...</td>\n",
       "      <td>[malaysia, has, its, origins, in, the, malay, ...</td>\n",
       "      <td>5</td>\n",
       "      <td>1</td>\n",
       "      <td>1.149768</td>\n",
       "      <td>1.018124</td>\n",
       "      <td>1.022901</td>\n",
       "      <td>1.085439</td>\n",
       "      <td>1.031698</td>\n",
       "      <td>0.871327</td>\n",
       "      <td>1.040618</td>\n",
       "      <td>0.979079</td>\n",
       "    </tr>\n",
       "    <tr>\n",
       "      <th>2</th>\n",
       "      <td>malaysia</td>\n",
       "      <td>The country is multi-ethnic and multi-cultural...</td>\n",
       "      <td>[the, country, is, multi-ethnic, and, multi-cu...</td>\n",
       "      <td>4</td>\n",
       "      <td>1</td>\n",
       "      <td>1.145528</td>\n",
       "      <td>1.016103</td>\n",
       "      <td>1.005200</td>\n",
       "      <td>1.081613</td>\n",
       "      <td>0.909561</td>\n",
       "      <td>0.980437</td>\n",
       "      <td>1.032442</td>\n",
       "      <td>1.008901</td>\n",
       "    </tr>\n",
       "    <tr>\n",
       "      <th>3</th>\n",
       "      <td>malaysia</td>\n",
       "      <td>Since its independence, Malaysia has had one o...</td>\n",
       "      <td>[since, its, independence, ,, malaysia, has, h...</td>\n",
       "      <td>6</td>\n",
       "      <td>1</td>\n",
       "      <td>1.156174</td>\n",
       "      <td>1.013717</td>\n",
       "      <td>1.002109</td>\n",
       "      <td>1.075794</td>\n",
       "      <td>1.018792</td>\n",
       "      <td>1.035296</td>\n",
       "      <td>0.815990</td>\n",
       "      <td>0.977437</td>\n",
       "    </tr>\n",
       "    <tr>\n",
       "      <th>4</th>\n",
       "      <td>malaysia</td>\n",
       "      <td>The name \"Malaysia\" is a combination of the wo...</td>\n",
       "      <td>[the, name, \", malaysia, \", is, a, combination...</td>\n",
       "      <td>5</td>\n",
       "      <td>1</td>\n",
       "      <td>1.158562</td>\n",
       "      <td>1.039677</td>\n",
       "      <td>1.023455</td>\n",
       "      <td>1.099471</td>\n",
       "      <td>1.047707</td>\n",
       "      <td>0.953124</td>\n",
       "      <td>1.059544</td>\n",
       "      <td>0.999549</td>\n",
       "    </tr>\n",
       "  </tbody>\n",
       "</table>\n",
       "</div>"
      ],
      "text/plain": [
       "      topic                                               text  \\\n",
       "0  malaysia  Malaysia (/məˈleɪʒə/ mə-LAY-zhə or /məˈleɪsiə/...   \n",
       "1  malaysia  Malaysia has its origins in the Malay kingdoms...   \n",
       "2  malaysia  The country is multi-ethnic and multi-cultural...   \n",
       "3  malaysia  Since its independence, Malaysia has had one o...   \n",
       "4  malaysia  The name \"Malaysia\" is a combination of the wo...   \n",
       "\n",
       "                                              tokens  cluster  count  \\\n",
       "0  [malaysia, (, /məˈleɪʒə/, mə-lay-zhə, or, /məˈ...        7      1   \n",
       "1  [malaysia, has, its, origins, in, the, malay, ...        5      1   \n",
       "2  [the, country, is, multi-ethnic, and, multi-cu...        4      1   \n",
       "3  [since, its, independence, ,, malaysia, has, h...        6      1   \n",
       "4  [the, name, \", malaysia, \", is, a, combination...        5      1   \n",
       "\n",
       "     topic0    topic1    topic2    topic3    topic4    topic5    topic6  \\\n",
       "0  1.160762  1.020485  1.006820  1.074643  1.013091  1.005256  1.012445   \n",
       "1  1.149768  1.018124  1.022901  1.085439  1.031698  0.871327  1.040618   \n",
       "2  1.145528  1.016103  1.005200  1.081613  0.909561  0.980437  1.032442   \n",
       "3  1.156174  1.013717  1.002109  1.075794  1.018792  1.035296  0.815990   \n",
       "4  1.158562  1.039677  1.023455  1.099471  1.047707  0.953124  1.059544   \n",
       "\n",
       "     topic7  \n",
       "0  0.854317  \n",
       "1  0.979079  \n",
       "2  1.008901  \n",
       "3  0.977437  \n",
       "4  0.999549  "
      ]
     },
     "execution_count": 232,
     "metadata": {},
     "output_type": "execute_result"
    }
   ],
   "source": [
    "n = 8 # num topics\n",
    "kmean = MiniBatchKMeans(n, max_iter=200)\n",
    "dist = kmean.fit_transform(doc_vectors)\n",
    "Y = kmean.labels_\n",
    "\n",
    "\n",
    "pd_dist = pd.DataFrame(dist, columns=['topic'+str(i) for i in range(n)])\n",
    "\n",
    "df['cluster'] = Y\n",
    "results = df.join(pd_dist)\n",
    "results.head()"
   ]
  },
  {
   "cell_type": "markdown",
   "metadata": {},
   "source": [
    "### Extract keywords for each Topic"
   ]
  },
  {
   "cell_type": "code",
   "execution_count": 233,
   "metadata": {
    "collapsed": false
   },
   "outputs": [
    {
     "data": {
      "text/html": [
       "<div>\n",
       "<table border=\"1\" class=\"dataframe\">\n",
       "  <thead>\n",
       "    <tr style=\"text-align: right;\">\n",
       "      <th></th>\n",
       "      <th>tokens</th>\n",
       "      <th>keywords</th>\n",
       "    </tr>\n",
       "    <tr>\n",
       "      <th>cluster</th>\n",
       "      <th></th>\n",
       "      <th></th>\n",
       "    </tr>\n",
       "  </thead>\n",
       "  <tbody>\n",
       "    <tr>\n",
       "      <th>0</th>\n",
       "      <td>the education system features a non-compulsory...</td>\n",
       "      <td>[(secondary, 0.482077966541), (schools, 0.3491...</td>\n",
       "    </tr>\n",
       "    <tr>\n",
       "      <th>1</th>\n",
       "      <td>singapore is a global commerce , finance and t...</td>\n",
       "      <td>[(tax, 0.187161739826), (best, 0.161505225048)...</td>\n",
       "    </tr>\n",
       "    <tr>\n",
       "      <th>2</th>\n",
       "      <td>the malaysian constitution says it guarantees ...</td>\n",
       "      <td>[(dynasty, 0.295337667668), (war, 0.1341327237...</td>\n",
       "    </tr>\n",
       "    <tr>\n",
       "      <th>3</th>\n",
       "      <td>popular sports in malaysia include association...</td>\n",
       "      <td>[(basketball, 0.371056393487), (sports, 0.3710...</td>\n",
       "    </tr>\n",
       "    <tr>\n",
       "      <th>4</th>\n",
       "      <td>the country is multi-ethnic and multi-cultural...</td>\n",
       "      <td>[(elected, 0.316998035239), (federal, 0.246885...</td>\n",
       "    </tr>\n",
       "  </tbody>\n",
       "</table>\n",
       "</div>"
      ],
      "text/plain": [
       "                                                    tokens  \\\n",
       "cluster                                                      \n",
       "0        the education system features a non-compulsory...   \n",
       "1        singapore is a global commerce , finance and t...   \n",
       "2        the malaysian constitution says it guarantees ...   \n",
       "3        popular sports in malaysia include association...   \n",
       "4        the country is multi-ethnic and multi-cultural...   \n",
       "\n",
       "                                                  keywords  \n",
       "cluster                                                     \n",
       "0        [(secondary, 0.482077966541), (schools, 0.3491...  \n",
       "1        [(tax, 0.187161739826), (best, 0.161505225048)...  \n",
       "2        [(dynasty, 0.295337667668), (war, 0.1341327237...  \n",
       "3        [(basketball, 0.371056393487), (sports, 0.3710...  \n",
       "4        [(elected, 0.316998035239), (federal, 0.246885...  "
      ]
     },
     "execution_count": 233,
     "metadata": {},
     "output_type": "execute_result"
    }
   ],
   "source": [
    "from sklearn.feature_extraction.text import TfidfVectorizer\n",
    "\n",
    "grouped = df.groupby('cluster').agg({'tokens': lambda x: ' '.join([' '.join(t) for t in x])})\n",
    "vec = TfidfVectorizer(max_features=10000, stop_words='english', strip_accents='unicode', max_df=0.5, min_df=0.05)\n",
    "X = vec.fit_transform(grouped.tokens)\n",
    "features = vec.get_feature_names()\n",
    "\n",
    "def get_top(features, scores):\n",
    "    tmp = zip(features, scores)\n",
    "    tmp = filter(lambda x: x[1] > 0.01, tmp)\n",
    "    return sorted(tmp, key=lambda x: x[1], reverse=True)[0:100]\n",
    "\n",
    "keywords = [get_top(features, scores) for scores in X.toarray()]\n",
    "\n",
    "grouped['keywords'] = pd.Series(keywords)\n",
    "grouped.head()"
   ]
  },
  {
   "cell_type": "code",
   "execution_count": 234,
   "metadata": {
    "collapsed": false
   },
   "outputs": [
    {
     "name": "stdout",
     "output_type": "stream",
     "text": [
      "\n",
      "CLUSTER# 0\n",
      "keywords:  secondary, schools, primary, students, school, university, compulsory, universities, stage, junior \n",
      "\n",
      "The education system features a non-compulsory kindergarten education followed by six years of compulsory primary education, and five years of optional secondary education. Schools in the primary education system are divided into two categories: national primary schools, which teach in Malay, and vernacular schools, which teach in Chinese or Tamil. Secondary education is conducted for five years. In the final year of secondary education, students sit for the Malaysian Certificate of Education examination. Since the introduction of the matriculation programme in 1999, students who completed the 12-month programme in matriculation colleges can enroll in local universities. However, in the matriculation system, only 10 per cent of places are open to non-bumiputera students.\n",
      "-\n",
      "Since 1986, compulsory education in China comprises primary and junior secondary school, which together last for nine years. In 2010, about 82.5 percent of students continued their education at a three-year senior secondary school. The Gaokao, China's national university entrance exam, is a prerequisite for entrance into most higher education institutions. In 2010, 27 percent of secondary school graduates are enrolled in higher education. Vocational education is available to students at the secondary and tertiary level.\n",
      "-\n",
      "In February 2006, the government pledged to provide completely free nine-year education, including textbooks and fees. Annual education investment went from less than US$50 billion in 2003 to more than US$250 billion in 2011. However, there remains an inequality in education spending. In 2010, the annual education expenditure per secondary school student in Beijing totalled ¥20,023, while in Guizhou, one of the poorest provinces in China, only totalled ¥3,204. Free compulsory education in China consists of primary school and junior secondary school between the ages of 6 and 15. In 2011, around 81.4% of Chinese have received secondary education. By 2007, there were 396,567 primary schools, 94,116 secondary schools, and 2,236 higher education institutions in China.\n",
      "\n",
      "CLUSTER# 1\n",
      "keywords:  tax, best, residents, index, households, companies, healthcare, rate, highest, airport \n",
      "\n",
      "Amnesty International has said that some legal provisions of the Singapore system conflict with the right to be presumed innocent until proven guilty, and that Singapore has \"... possibly the highest execution rate in the world relative to its population\". The government has disputed Amnesty's claims. Singapore's judicial system is considered one of the most reliable in Asia.\n",
      "-\n",
      "The median age of Singaporean residents is 39.3, and the total fertility rate is estimated to be 0.80 children per woman in 2014, the lowest in the world and well below the 2.1 needed to replace the population. To overcome this problem, the Singapore government has been encouraging foreigners to immigrate to Singapore for the past few decades. The large number of immigrants has kept Singapore's population from declining.\n",
      "-\n",
      "Singapore has been consistently rated among the least corrupt countries in the world by Transparency International. Singapore's unique combination of a strong almost authoritarian government with an emphasis on meritocracy and good governance is known as the \"Singapore model\", and is regarded as a key factor behind Singapore's political stability, economic growth, and harmonious social order. In 2011, the World Justice Project's Rule of Law Index ranked Singapore among the top countries surveyed with regard to \"order and security\", \"absence of corruption\", and \"effective criminal justice\". However, the country received a much lower ranking for \"freedom of speech\" and \"freedom of assembly\". All public gatherings of five or more people require police permits, and protests may legally be held only at the Speakers' Corner.\n",
      "\n",
      "CLUSTER# 2\n",
      "keywords:  dynasty, war, beijing, han, total, bce, growth, song, trillion, culture \n",
      "\n",
      "China emerged as one of the world's earliest civilizations in the fertile basin of the Yellow River in the North China Plain. For millennia, China's political system was based on hereditary monarchies known as dynasties, beginning with the Xia dynasty (c. 2070 BCE). Since 221 BCE, when the Qin dynasty conquered the other largest six states to form the first unified Chinese empire, China has then expanded, fractured and reformed numerous times in the following millennia. In 1912, The Republic of China (ROC) replaced the last dynasty, and ruled the Chinese mainland until 1949, when it was defeated by the communist People's Liberation Army in the Chinese Civil War. The Communist Party established the People's Republic of China in Beijing on 1 October 1949, while the ROC government relocated to Taiwan with its present de facto temporary capital in Taipei. Both the ROC and PRC continue to claim to be the legitimate government of all China, though the latter has more recognition in the world and controls more territory.\n",
      "-\n",
      "The Chinese space program is one of the world's most active, and is a major source of national pride. In 1970, China launched its first satellite, Dong Fang Hong I, becoming the fifth country to do so independently. In 2003, China became the third country to independently send humans into space, with Yang Liwei's spaceflight aboard Shenzhou 5; as of 2015, ten Chinese nationals have journeyed into space, including two women. In 2011, China's first space station module, Tiangong-1, was launched, marking the first step in a project to assemble a large manned station by the early 2020s. In 2013, China successfully landed the Chang'e 3 probe and Yutu rover onto the Moon; China plans to collect lunar soil samples by 2017.\n",
      "-\n",
      "The official name of the modern state is the \"People's Republic of China\" (Chinese: 中华人民共和国; pinyin: Zhōnghuá Rénmín Gònghéguó). The shorter form is \"China\" Zhōngguó (中国), from zhōng (\"central\" or \"middle\") and guó (\"state, nation-state\"), a term which developed under the Zhou Dynasty in reference to its royal demesne. It was then applied to the area around Luoyi (present-day Luoyang) during the Eastern Zhou and then to China's Central Plain before being used as an occasional synonym for the state under the Qing. It was often used as a cultural concept to distinguish the Huaxia tribes from perceived \"barbarians\" and was the source of the English name \"Middle Kingdom\". A more literary or inclusive name, alluding to the \"land of Chinese civilization\", is Zhōnghuá (中华). It developed during the Wei and Jin dynasties as a contraction of \"the central state of the Huaxia\". During the 1950s and 1960s, after the defeat of the Kuomingtang in the Chinese Civil War, it was also referred to as \"Communist China\" or \"Red China\", to be differentiated from \"Nationalist China\" or \"Free China\".\n",
      "\n",
      "CLUSTER# 3\n",
      "keywords:  basketball, sports, football, league, badminton, cup, sport, arts, hockey, sailing \n",
      "\n",
      "Physical fitness is widely emphasized in Chinese culture, with morning exercises such as qigong and t'ai chi ch'uan widely practiced, and commercial gyms and fitness clubs gaining popularity in the country. Basketball is currently the most popular spectator sport in China. The Chinese Basketball Association and the American National Basketball Association have a huge following among the people, with native or ethnic Chinese players such as Yao Ming and Yi Jianlian held in high esteem. China's professional football league, now known as Chinese Super League, was established in 1994, it is the largest football market in Asia. Other popular sports in the country include martial arts, table tennis, badminton, swimming and snooker. Board games such as go (known as wéiqí in Chinese), xiangqi, mahjong, and more recently chess, are also played at a professional level. In addition, China is home to a huge number of cyclists, with an estimated 470 million bicycles as of 2012. Many more traditional sports, such as dragon boat racing, Mongolian-style wrestling and horse racing are also popular.\n",
      "-\n",
      "Popular sports include football, basketball, cricket, swimming, sailing, table tennis and badminton. Most Singaporeans live in public residential areas (known as \"HDB flats\") near amenities such as public swimming pools, outdoor basketball courts and indoor sport complexes. Water sports are popular, including sailing, kayaking and water skiing. Scuba diving is another popular recreational sport.\n",
      "-\n",
      "The Singapore Slingers, formerly the Hunter Pirates in the Australian National Basketball League, is one of the inaugural teams in the ASEAN Basketball League which was founded in October 2009.\n",
      "\n",
      "CLUSTER# 4\n",
      "keywords:  elected, federal, internet, parliamentary, minister, king, councils, legislative, parliament, constitution \n",
      "\n",
      "Each state has a unicameral State Legislative Assembly whose members are elected from single-member constituencies. State governments are led by Chief Ministers, who are state assembly members from the majority party in the assembly. In each of the states with a hereditary ruler, the Chief Minister is normally required to be a Malay, appointed by the ruler upon the recommendation of the Prime Minister. Parliamentary elections are held at least once every five years, the most recent of which took place in May 2013. Registered voters of age 21 and above may vote for the members of the House of Representatives and, in most of the states, for the state legislative chamber. Voting is not mandatory. Except for state elections in Sarawak, by convention state elections are held concurrently with the federal election.\n",
      "-\n",
      "Singapore is a unitary multiparty parliamentary republic, with a Westminster system of unicameral parliamentary government. The People's Action Party has won every election since self-government in 1959. The dominance of the PAP, coupled with a low level of press freedom and restrictions on civil liberties and political rights, has led to Singapore being classified by some as a semi-authoritarian regime. One of the five founding members of the ASEAN, Singapore is also the host of the Asia-Pacific Economic Cooperation (APEC) Secretariat, and a member of the East Asia Summit, Non-Aligned Movement, and the Commonwealth of Nations.\n",
      "-\n",
      "China's constitution states that The People's Republic of China \"is a socialist state under the people's democratic dictatorship led by the working class and based on the alliance of workers and peasants,\" and that the state organs \"apply the principle of democratic centralism.\" The PRC is one of the world's few remaining socialist states openly endorsing communism (see Ideology of the Communist Party of China). The Chinese government has been variously described as communist and socialist, but also as authoritarian and corporatist, with heavy restrictions in many areas, most notably against free access to the Internet, freedom of the press, freedom of assembly, the right to have children, free formation of social organizations and freedom of religion. Its current political, ideological and economic system has been termed by its leaders as the \"people's democratic dictatorship\", \"socialism with Chinese characteristics\" (which is Marxism adapted to Chinese circumstances) and the \"socialist market economy\" respectively.\n",
      "\n",
      "CLUSTER# 5\n",
      "keywords:  language, malaya, culture, languages, century, sarawak, peninsula, literature, borneo, cuisine \n",
      "\n",
      "Malaysia has its origins in the Malay kingdoms present in the area which, from the 18th century, became subject to the British Empire. The first British territories were known as the Straits Settlements, whose establishment was followed by the Malay kingdoms becoming British protectorates. The territories on Peninsular Malaysia were first unified as the Malayan Union in 1946. Malaya was restructured as the Federation of Malaya in 1948, and achieved independence on 31 August 1957. Malaya united with North Borneo, Sarawak, and Singapore on 16 September 1963 to become Malaysia. Less than two years later in 1965, Singapore was expelled from the federation.\n",
      "-\n",
      "Malay was chosen as a national language by the Singaporean government after independence from Britain in the 1960s to avoid friction with Singapore's Malay-speaking neighbours—Malaysia and Indonesia. It has a symbolic, rather than functional purpose. It is used in the national anthem \"Majulah Singapura\", in citations of Singaporean orders and decorations, and in military commands. In general, Malay is spoken mainly within the Singaporean Malay community, with only 17% of all Singaporeans literate in Malay and only 12% using it as their native language. While Singaporean Malay is officially written in the Latin-based Rumi script, Singaporean Malays still learn some Jawi as children alongside Rumi, and Jawi is considered an ethnic script for use on Singaporean Identity Cards.\n",
      "-\n",
      "Singapore has four official languages: English, Malay, Mandarin Chinese, and Tamil. English is the common language, and is the language of business, government, and the medium of instruction in schools. Public bodies in Singapore, such as the Singapore Public Service, (which includes the Singapore Civil Service and other agencies), conduct their business in English, and official documents written in a non-English official language such as Malay, Chinese or Tamil typically have to be translated into English to be accepted for submission.\n",
      "\n",
      "CLUSTER# 6\n",
      "keywords:  minister, lee, member, cooperation, founding, rsaf, squadron, growth, crisis, summit \n",
      "\n",
      "Since its independence, Malaysia has had one of the best economic records in Asia, with its GDP growing at an average of 6.5% per annum for almost 50 years. The economy has traditionally been fuelled by its natural resources, but is expanding in the sectors of science, tourism, commerce and medical tourism. Today, Malaysia has a newly industrialised market economy, ranked third largest in Southeast Asia and 29th largest in the world. It is a founding member of the Association of Southeast Asian Nations, the East Asia Summit and the Organisation of Islamic Cooperation, and a member of Asia-Pacific Economic Cooperation, the Commonwealth of Nations, and the Non-Aligned Movement.\n",
      "-\n",
      "Malaysia is a relatively open state-oriented and newly industrialised market economy. The state plays a significant but declining role in guiding economic activity through macroeconomic plans. Malaysia has had one of the best economic records in Asia, with GDP growing an average 6.5 per cent annually from 1957 to 2005. Malaysia's economy in 2014–2015 was one of the most competitive in Asia, ranking 6th in Asia and 20th in the world, higher than countries like Australia, France and South Korea. In 2014, Malaysia's economy grew 6%, the second highest growth in ASEAN behind the Philippines' growth of 6.1%. The economy of Malaysia in terms of gross domestic product (GDP) at purchasing power parity (PPP) in 2014 was $746.821 billion, the third largest in ASEAN behind more populous Indonesia and Thailand and the 28th largest in the world.\n",
      "-\n",
      "A founding member of the Association of Southeast Asian Nations (ASEAN) and the Organisation of Islamic Cooperation (OIC), the country participates in many international organisations such as the United Nations, the Asia-Pacific Economic Cooperation, the Developing 8 Countries, and the Non-Aligned Movement (NAM). It has chaired ASEAN, the OIC, and the NAM in the past. A former British colony, it is also a member of the Commonwealth of Nations. Kuala Lumpur was the site of the first East Asia Summit in 2005.\n",
      "\n",
      "CLUSTER# 7\n",
      "keywords:  species, mi, peninsular, indonesia, federal, sq, km2, maritime, total, roads \n",
      "\n",
      "Malaysia (/məˈleɪʒə/ mə-LAY-zhə or /məˈleɪsiə/ mə-LAY-see-ə; Malaysian pronunciation: [məlejsiə]) is a federal constitutional monarchy located in Southeast Asia. It consists of thirteen states and three federal territories and has a total landmass of 330,803 square kilometres (127,720 sq mi) separated by the South China Sea into two similarly sized regions, Peninsular Malaysia and East Malaysia (Malaysian Borneo). Peninsular Malaysia shares a land and maritime border with Thailand and maritime borders with Singapore, Vietnam, and Indonesia. East Malaysia shares land and maritime borders with Brunei and Indonesia and a maritime border with the Philippines and Vietnam. The capital city is Kuala Lumpur, while Putrajaya is the seat of the federal government. With a population of over 30 million, Malaysia is the 44th most populous country. The southernmost point of continental Eurasia, Tanjung Piai, is in Malaysia. Located in the tropics, Malaysia is one of 17 megadiverse countries on earth, with large numbers of endemic species.\n",
      "-\n",
      "Malaysia is the 66th largest country by total land area, with a land area of 329,613 km2 (127,264 sq mi). It has land borders with Thailand in West Malaysia, and Indonesia and Brunei in East Malaysia. It is linked to Singapore by a narrow causeway and a bridge. The country also has maritime boundaries with Vietnam and the Philippines. The land borders are defined in large part by geological features such as the Perlis River, the Golok River and the Pagalayan Canal, whilst some of the maritime boundaries are the subject of ongoing contention. Brunei forms what is almost an enclave in Malaysia, with the state of Sarawak dividing it into two parts. Malaysia is the only country with territory on both the Asian mainland and the Malay archipelago. Tanjung Piai, located in the southern state of Johor, is the southernmost tip of continental Asia. The Strait of Malacca, lying between Sumatra and Peninsular Malaysia, is one of the most important thoroughfares in global commerce, carrying 40 per cent of the world's trade.\n",
      "-\n",
      "About two thirds of Malaysia is covered in forest, with some forests believed to be 130 million years old. The forests are dominated by dipterocarps. Lowland forest covers areas below 760 m (2,490 ft), and formerly East Malaysia was covered in such rainforest, which is supported by its hot wet climate. There are around 14,500 species of flowering plants and trees. Besides rainforests, there are over 1,425 km2 (550 sq mi) of mangroves in Malaysia, and a large amount of peat forest. At higher altitudes, oaks, chestnuts, and rhododendrons replace dipterocarps. There are an estimated 8,500 species of vascular plants in Peninsular Malaysia, with another 15,000 in the East. The forests of East Malaysia are estimated to be the habitat of around 2,000 tree species, and are one of the most biodiverse areas in the world, with 240 different species of trees every hectare. These forests host many members of the Rafflesia genus, the largest flowers in the world, with a maximum diameter of 1 m (3 ft 3 in).\n"
     ]
    }
   ],
   "source": [
    "for name, group in results.groupby('cluster'):\n",
    "    print('\\nCLUSTER#', name)\n",
    "    o = \", \".join([word for word, score in grouped.keywords[name][0:10]])\n",
    "    print('keywords: ',o,'\\n')\n",
    "    t = \"\\n-\\n\".join([text for text in group.sort_values('topic'+str(name)).text[0:3]])\n",
    "    print(t)"
   ]
  },
  {
   "cell_type": "markdown",
   "metadata": {},
   "source": [
    "### Labelling"
   ]
  },
  {
   "cell_type": "code",
   "execution_count": 227,
   "metadata": {
    "collapsed": false
   },
   "outputs": [
    {
     "data": {
      "text/html": [
       "<div>\n",
       "<table border=\"1\" class=\"dataframe\">\n",
       "  <thead>\n",
       "    <tr style=\"text-align: right;\">\n",
       "      <th></th>\n",
       "      <th></th>\n",
       "      <th>count</th>\n",
       "    </tr>\n",
       "    <tr>\n",
       "      <th>topic</th>\n",
       "      <th>cluster</th>\n",
       "      <th></th>\n",
       "    </tr>\n",
       "  </thead>\n",
       "  <tbody>\n",
       "    <tr>\n",
       "      <th rowspan=\"8\" valign=\"top\">china</th>\n",
       "      <th>0</th>\n",
       "      <td>4</td>\n",
       "    </tr>\n",
       "    <tr>\n",
       "      <th>1</th>\n",
       "      <td>10</td>\n",
       "    </tr>\n",
       "    <tr>\n",
       "      <th>2</th>\n",
       "      <td>1</td>\n",
       "    </tr>\n",
       "    <tr>\n",
       "      <th>3</th>\n",
       "      <td>10</td>\n",
       "    </tr>\n",
       "    <tr>\n",
       "      <th>4</th>\n",
       "      <td>4</td>\n",
       "    </tr>\n",
       "    <tr>\n",
       "      <th>5</th>\n",
       "      <td>2</td>\n",
       "    </tr>\n",
       "    <tr>\n",
       "      <th>6</th>\n",
       "      <td>1</td>\n",
       "    </tr>\n",
       "    <tr>\n",
       "      <th>7</th>\n",
       "      <td>77</td>\n",
       "    </tr>\n",
       "    <tr>\n",
       "      <th rowspan=\"7\" valign=\"top\">malaysia</th>\n",
       "      <th>0</th>\n",
       "      <td>2</td>\n",
       "    </tr>\n",
       "    <tr>\n",
       "      <th>2</th>\n",
       "      <td>34</td>\n",
       "    </tr>\n",
       "    <tr>\n",
       "      <th>3</th>\n",
       "      <td>5</td>\n",
       "    </tr>\n",
       "    <tr>\n",
       "      <th>4</th>\n",
       "      <td>10</td>\n",
       "    </tr>\n",
       "    <tr>\n",
       "      <th>5</th>\n",
       "      <td>4</td>\n",
       "    </tr>\n",
       "    <tr>\n",
       "      <th>6</th>\n",
       "      <td>15</td>\n",
       "    </tr>\n",
       "    <tr>\n",
       "      <th>7</th>\n",
       "      <td>1</td>\n",
       "    </tr>\n",
       "    <tr>\n",
       "      <th rowspan=\"8\" valign=\"top\">singapore</th>\n",
       "      <th>0</th>\n",
       "      <td>14</td>\n",
       "    </tr>\n",
       "    <tr>\n",
       "      <th>1</th>\n",
       "      <td>6</td>\n",
       "    </tr>\n",
       "    <tr>\n",
       "      <th>2</th>\n",
       "      <td>48</td>\n",
       "    </tr>\n",
       "    <tr>\n",
       "      <th>3</th>\n",
       "      <td>2</td>\n",
       "    </tr>\n",
       "    <tr>\n",
       "      <th>4</th>\n",
       "      <td>8</td>\n",
       "    </tr>\n",
       "    <tr>\n",
       "      <th>5</th>\n",
       "      <td>10</td>\n",
       "    </tr>\n",
       "    <tr>\n",
       "      <th>6</th>\n",
       "      <td>8</td>\n",
       "    </tr>\n",
       "    <tr>\n",
       "      <th>7</th>\n",
       "      <td>3</td>\n",
       "    </tr>\n",
       "  </tbody>\n",
       "</table>\n",
       "</div>"
      ],
      "text/plain": [
       "                   count\n",
       "topic     cluster       \n",
       "china     0            4\n",
       "          1           10\n",
       "          2            1\n",
       "          3           10\n",
       "          4            4\n",
       "          5            2\n",
       "          6            1\n",
       "          7           77\n",
       "malaysia  0            2\n",
       "          2           34\n",
       "          3            5\n",
       "          4           10\n",
       "          5            4\n",
       "          6           15\n",
       "          7            1\n",
       "singapore 0           14\n",
       "          1            6\n",
       "          2           48\n",
       "          3            2\n",
       "          4            8\n",
       "          5           10\n",
       "          6            8\n",
       "          7            3"
      ]
     },
     "execution_count": 227,
     "metadata": {},
     "output_type": "execute_result"
    }
   ],
   "source": [
    "df['count'] = 1\n",
    "df[['topic', 'cluster', 'count']].groupby(['topic', 'cluster']).agg({'count':'sum'})"
   ]
  },
  {
   "cell_type": "code",
   "execution_count": 214,
   "metadata": {
    "collapsed": false
   },
   "outputs": [
    {
     "data": {
      "text/html": [
       "<div>\n",
       "<table border=\"1\" class=\"dataframe\">\n",
       "  <thead>\n",
       "    <tr style=\"text-align: right;\">\n",
       "      <th></th>\n",
       "      <th>tokens</th>\n",
       "      <th>keywords</th>\n",
       "      <th>labels</th>\n",
       "    </tr>\n",
       "    <tr>\n",
       "      <th>cluster</th>\n",
       "      <th></th>\n",
       "      <th></th>\n",
       "      <th></th>\n",
       "    </tr>\n",
       "  </thead>\n",
       "  <tbody>\n",
       "    <tr>\n",
       "      <th>0</th>\n",
       "      <td>kyoto seika university japan have offer compet...</td>\n",
       "      <td>[(water, 0.294164579135), (secondary, 0.210117...</td>\n",
       "      <td>unknown</td>\n",
       "    </tr>\n",
       "    <tr>\n",
       "      <th>1</th>\n",
       "      <td>legal system singapore be base english common ...</td>\n",
       "      <td>[(code, 0.388392398476), (offence, 0.358117190...</td>\n",
       "      <td>crime</td>\n",
       "    </tr>\n",
       "    <tr>\n",
       "      <th>2</th>\n",
       "      <td>victim recognize their own role victim they ma...</td>\n",
       "      <td>[(argue, 0.223907995858), (casualty, 0.2180578...</td>\n",
       "      <td>war</td>\n",
       "    </tr>\n",
       "    <tr>\n",
       "      <th>3</th>\n",
       "      <td>manga manga be comic create japan creator japa...</td>\n",
       "      <td>[(film, 0.827452219334), (manga, 0.33148697471...</td>\n",
       "      <td>movie-manga</td>\n",
       "    </tr>\n",
       "    <tr>\n",
       "      <th>4</th>\n",
       "      <td>singapore /ˈsɪŋɡəpɔːr/ republic singapore refe...</td>\n",
       "      <td>[(island, 0.275399194911), (singaporean, 0.247...</td>\n",
       "      <td>singapore</td>\n",
       "    </tr>\n",
       "  </tbody>\n",
       "</table>\n",
       "</div>"
      ],
      "text/plain": [
       "                                                    tokens  \\\n",
       "cluster                                                      \n",
       "0        kyoto seika university japan have offer compet...   \n",
       "1        legal system singapore be base english common ...   \n",
       "2        victim recognize their own role victim they ma...   \n",
       "3        manga manga be comic create japan creator japa...   \n",
       "4        singapore /ˈsɪŋɡəpɔːr/ republic singapore refe...   \n",
       "\n",
       "                                                  keywords       labels  \n",
       "cluster                                                                  \n",
       "0        [(water, 0.294164579135), (secondary, 0.210117...      unknown  \n",
       "1        [(code, 0.388392398476), (offence, 0.358117190...        crime  \n",
       "2        [(argue, 0.223907995858), (casualty, 0.2180578...          war  \n",
       "3        [(film, 0.827452219334), (manga, 0.33148697471...  movie-manga  \n",
       "4        [(island, 0.275399194911), (singaporean, 0.247...    singapore  "
      ]
     },
     "execution_count": 214,
     "metadata": {},
     "output_type": "execute_result"
    }
   ],
   "source": [
    "grouped['labels'] = ['unknown' , 'crime', 'war', 'movie-manga', 'singapore']\n",
    "grouped"
   ]
  }
 ],
 "metadata": {
  "kernelspec": {
   "display_name": "Python 3",
   "language": "python",
   "name": "python3"
  },
  "language_info": {
   "codemirror_mode": {
    "name": "ipython",
    "version": 3
   },
   "file_extension": ".py",
   "mimetype": "text/x-python",
   "name": "python",
   "nbconvert_exporter": "python",
   "pygments_lexer": "ipython3",
   "version": "3.6.0"
  }
 },
 "nbformat": 4,
 "nbformat_minor": 2
}
